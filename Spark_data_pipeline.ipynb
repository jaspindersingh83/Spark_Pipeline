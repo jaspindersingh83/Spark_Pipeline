{
 "cells": [
  {
   "cell_type": "code",
   "execution_count": 146,
   "metadata": {
    "collapsed": false
   },
   "outputs": [],
   "source": [
    "import findspark\n",
    "findspark.init()\n",
    "import pyspark\n",
    "sc.stop()\n",
    "sc=pyspark.SparkContext()\n"
   ]
  },
  {
   "cell_type": "markdown",
   "metadata": {},
   "source": [
    "## To stop a spark context object use sc.stop()"
   ]
  },
  {
   "cell_type": "code",
   "execution_count": 147,
   "metadata": {
    "collapsed": true
   },
   "outputs": [],
   "source": [
    "raw_hamlet=sc.textFile('hamlet.txt')\n",
    "split_hamlet=raw_hamlet.map(lambda line:line.split('\\t'))"
   ]
  },
  {
   "cell_type": "code",
   "execution_count": 148,
   "metadata": {
    "collapsed": false
   },
   "outputs": [
    {
     "name": "stdout",
     "output_type": "stream",
     "text": [
      "0\n",
      "8\n",
      "9\n",
      "10\n",
      "29\n",
      "30\n",
      "31\n",
      "74\n",
      "75\n",
      "131\n"
     ]
    }
   ],
   "source": [
    "## Testing\n",
    "\n",
    "first_10=split_hamlet.take(10)\n",
    "first_10\n",
    "for i in first_10:\n",
    "    print (i[0][7:])"
   ]
  },
  {
   "cell_type": "markdown",
   "metadata": {},
   "source": [
    "The first value in each element (or line from the play) is a line number that identifies the line of the play the text is from. It appears in the following format:\n",
    "\n",
    "\n",
    "'hamlet@0'\n",
    "'hamlet@8',\n",
    "'hamlet@9',\n",
    "...\n",
    "We don't need the hamlet@ at the beginning of these IDs for our data analysis. Let's extract just the integer part of the ID from each line, which is much more useful."
   ]
  },
  {
   "cell_type": "code",
   "execution_count": 177,
   "metadata": {
    "collapsed": false
   },
   "outputs": [
    {
     "data": {
      "text/plain": [
       "[['0', '', 'HAMLET'], ['8'], ['9'], ['10', '', 'DRAMATIS PERSONAE']]"
      ]
     },
     "execution_count": 177,
     "metadata": {},
     "output_type": "execute_result"
    }
   ],
   "source": [
    "def separate_ids(line):\n",
    "    line[0]=line[0][7:]\n",
    "    return line\n",
    "hamlet_with_ids=split_hamlet.map(lambda line:separate_ids(line))\n",
    "hamlet_with_ids.take(4)\n"
   ]
  },
  {
   "cell_type": "markdown",
   "metadata": {},
   "source": [
    "3: Remove Blank Values\n",
    "\n",
    "Next, we want to get rid of elements that don't contain any actual words (and just have an ID as the first value). These typically represent blank lines between paragraphs or sections in the play. We also want to remove any blank values ('') within elements, which don't contain any useful information for our analysis."
   ]
  },
  {
   "cell_type": "code",
   "execution_count": 189,
   "metadata": {
    "collapsed": false
   },
   "outputs": [
    {
     "data": {
      "text/plain": [
       "[['0', 'HAMLET'],\n",
       " ['10', 'DRAMATIS PERSONAE'],\n",
       " ['31', 'CLAUDIUS', 'king of Denmark KING CLAUDIUS'],\n",
       " ['75', 'HAMLET', 'son to the late and nephew to the present king'],\n",
       " ['132', 'POLONIUS', 'lord chamberlain LORD POLONIUS'],\n",
       " ['177', 'HORATIO', 'friend to Hamlet'],\n",
       " ['204', 'LAERTES', 'son to Polonius'],\n",
       " ['230', 'LUCIANUS', 'nephew to the king'],\n",
       " ['261', 'VOLTIMAND'],\n",
       " ['273', ''],\n",
       " ['276', 'CORNELIUS'],\n",
       " ['288', ''],\n",
       " ['291', 'ROSENCRANTZ', '  courtiers'],\n",
       " ['317', ''],\n",
       " ['320', 'GUILDENSTERN']]"
      ]
     },
     "execution_count": 189,
     "metadata": {},
     "output_type": "execute_result"
    }
   ],
   "source": [
    "import re\n",
    "def filter_no_text_lines(line):\n",
    "    if len(line)>1:\n",
    "        return True\n",
    "def remove_blanks(line):\n",
    "    for i in line:\n",
    "        line[line.index(i)]=re.sub('[^A-Za-z0-9 ]',\"\",i)\n",
    "    for j in line:\n",
    "        if len(j)==0:\n",
    "            line.remove(j)\n",
    "    return line \n",
    "hamlet_text_only_1=hamlet_with_ids.filter(lambda line: filter_no_text_lines(line))\n",
    "hamlet_text_only=hamlet_text_only_1.map(lambda line:remove_blanks(line))\n",
    "hamlet_text_only.take(15)"
   ]
  },
  {
   "cell_type": "markdown",
   "metadata": {},
   "source": [
    "4: Remove Pipe Characters\n"
   ]
  },
  {
   "cell_type": "code",
   "execution_count": null,
   "metadata": {
    "collapsed": true
   },
   "outputs": [],
   "source": []
  }
 ],
 "metadata": {
  "kernelspec": {
   "display_name": "Python 3",
   "language": "python",
   "name": "python3"
  },
  "language_info": {
   "codemirror_mode": {
    "name": "ipython",
    "version": 3
   },
   "file_extension": ".py",
   "mimetype": "text/x-python",
   "name": "python",
   "nbconvert_exporter": "python",
   "pygments_lexer": "ipython3",
   "version": "3.6.0"
  }
 },
 "nbformat": 4,
 "nbformat_minor": 2
}
